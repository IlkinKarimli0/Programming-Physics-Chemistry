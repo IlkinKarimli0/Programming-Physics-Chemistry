{
 "cells": [
  {
   "cell_type": "markdown",
   "id": "6cbcc6f7",
   "metadata": {},
   "source": [
    "#### Basic estimation"
   ]
  },
  {
   "cell_type": "code",
   "execution_count": 3,
   "id": "2f1784fc",
   "metadata": {},
   "outputs": [
    {
     "name": "stdout",
     "output_type": "stream",
     "text": [
      "3.14336\n"
     ]
    }
   ],
   "source": [
    "import numpy as np\n",
    "\n",
    "#num random points\n",
    "N = 100_000\n",
    "\n",
    "#list of random points\n",
    "x = np.random.rand(N)\n",
    "y = np.random.rand(N)\n",
    "\n",
    "\n",
    "result = np.array(np.sqrt(np.power(x,2) + np.power(y,2)) < 1)\n",
    "\n",
    "print(4*result.sum()/len(result))\n",
    "\n",
    "#print(result)"
   ]
  },
  {
   "cell_type": "code",
   "execution_count": 3,
   "id": "08772cb6",
   "metadata": {},
   "outputs": [],
   "source": [
    "import pygame \n",
    "import numpy as np\n",
    "import math as m\n",
    "\n",
    "\n",
    "class vizualize:\n",
    "    def __init__(self,num_of_points,width = 1000,height =1000):\n",
    "        \n",
    "        self.x = np.random.rand(num_of_points)\n",
    "        self.y = np.random.rand(num_of_points)\n",
    "\n",
    "        self.width = width \n",
    "        self.height = height\n",
    "\n",
    "        result = np.array(np.sqrt(np.power(self.x,2) + np.power(self.y,2)) < 1)\n",
    "\n",
    "        self.window = pygame.display.set_mode((self.width,self.height))\n",
    "\n",
    "        self.quit = False\n",
    "\n",
    "    \n",
    "    def visualize(self):\n",
    "        \n",
    "        while not self.quit:\n",
    "\n",
    "            for event in pygame.event.get():\n",
    "                if event.type == pygame.QUIT:\n",
    "                    self.quit = True\n",
    "\n",
    "\n",
    "\n",
    "            self.window.fill((255,255,255))\n",
    "            pygame.draw.circle(self.window, (0,0, 0),[500, 500], 500, 3)\n",
    "\n",
    "            for x,y in zip(self.x, self.y):\n",
    "                #print(x,y)\n",
    "                if self.is_inside(x,y):\n",
    "                    self.window.fill( (0,255,0)  ,((x*1000,y*1000), (5, 5)))\n",
    "                else:\n",
    "                    self.window.fill( (255,0,0)  ,((x*1000,y*1000), (5, 5)))\n",
    "                \n",
    "\n",
    "\n",
    "            pygame.display.update()\n",
    "\n",
    "    def is_inside(self,x,y):\n",
    "        \n",
    "        return m.sqrt(m.pow(1000*x-500,2) + m.pow(1000*y - 500,2)) < 500\n",
    "\n",
    "task2 = vizualize(100000)\n",
    "task2.visualize()\n"
   ]
  },
  {
   "attachments": {},
   "cell_type": "markdown",
   "id": "93a8fba9",
   "metadata": {},
   "source": [
    "\n",
    "#### Estimation with 10 dots \n",
    "<div>\n",
    "<img align=\"center\" src=\"Screenshot_20221026_110834.png\" width=500 >\n",
    "</div>\n",
    "\n",
    "#### Estimation with 1000 dots \n",
    "<div>\n",
    "<img align=\"center\" src=\"Files/Screenshot_20221026_110951.png\" width=500 >\n",
    "</div>\n",
    "#### Estimation with 1.000.000 dots \n",
    "<div>\n",
    "<img align=\"center\" src=\"Files/Screenshot_20221026_110319.png\" width=500 >\n",
    "</div>"
   ]
  },
  {
   "attachments": {},
   "cell_type": "markdown",
   "id": "b22dcfcd",
   "metadata": {},
   "source": [
    "### Trapazoidal method\n",
    "\n",
    "<div>\n",
    "<img align=\"center\" src=\"Files/Screenshot_20221026_111356.png\" width=500 >\n",
    "</div>\n",
    "\n",
    "\n"
   ]
  },
  {
   "cell_type": "markdown",
   "id": "2483deaa",
   "metadata": {},
   "source": [
    "    First glance, it is Riemann’s sum "
   ]
  },
  {
   "cell_type": "code",
   "execution_count": 1,
   "id": "e83ea659",
   "metadata": {},
   "outputs": [
    {
     "name": "stdout",
     "output_type": "stream",
     "text": [
      "3.141592548406785\n"
     ]
    }
   ],
   "source": [
    "##Implementation of Rienmann's sum\n",
    "\n",
    "from math import sqrt\n",
    "\n",
    "num_of_trapeze = 100000\n",
    "\n",
    "height_of_each_trapeze = 2/num_of_trapeze\n",
    "\n",
    "def circle_func(x):\n",
    "    return  sqrt(1-(x-1)**2)\n",
    "\n",
    "\n",
    "def trapeze_area(head1,head2,height):\n",
    "    return (head1+head2)/2*height\n",
    "\n",
    "head = 0\n",
    "total_area = 0\n",
    "\n",
    "for i in range(1,num_of_trapeze+1):\n",
    "\n",
    "    next_head = circle_func(i*height_of_each_trapeze)\n",
    "\n",
    "    total_area += 2*trapeze_area(head,next_head,height_of_each_trapeze)\n",
    "\n",
    "    head = next_head\n",
    "\n",
    "print(total_area)"
   ]
  },
  {
   "cell_type": "code",
   "execution_count": null,
   "id": "24ae524d",
   "metadata": {},
   "outputs": [],
   "source": []
  }
 ],
 "metadata": {
  "kernelspec": {
   "display_name": "Python 3 (ipykernel)",
   "language": "python",
   "name": "python3"
  },
  "language_info": {
   "codemirror_mode": {
    "name": "ipython",
    "version": 3
   },
   "file_extension": ".py",
   "mimetype": "text/x-python",
   "name": "python",
   "nbconvert_exporter": "python",
   "pygments_lexer": "ipython3",
   "version": "3.9.12"
  }
 },
 "nbformat": 4,
 "nbformat_minor": 5
}
